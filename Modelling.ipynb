{
 "cells": [
  {
   "cell_type": "code",
   "execution_count": 74,
   "id": "9875deeb",
   "metadata": {},
   "outputs": [],
   "source": [
    "import pandas as pd\n",
    "import numpy as np\n",
    "import matplotlib.pyplot as plt\n",
    "import seaborn as sns\n",
    "\n",
    "df = pd.read_csv('food_nutrition.csv')\n"
   ]
  },
  {
   "cell_type": "code",
   "execution_count": 75,
   "id": "63aa8d97",
   "metadata": {},
   "outputs": [
    {
     "data": {
      "text/plain": [
       "Index(['NDB_No', 'Long_Desc', 'Msre_Desc', 'Gm_Wgt', 'Water_g', 'Energ_Kcal',\n",
       "       'Protein_g', 'Lipid_Tot_g', 'Ash_g', 'Carbohydrt_g', 'Fiber_TD_g',\n",
       "       'Sugar_Tot_g', 'Calcium_mg', 'Iron_mg', 'Magnesium_mg', 'Phosphorus_mg',\n",
       "       'Potassium_mg', 'Sodium_mg', 'Zinc_mg', 'Copper_mg', 'Manganese_mg',\n",
       "       'Selenium_µg', 'Vit_C_mg', 'Thiamin_mg', 'Riboflavin_mg', 'Niacin_mg',\n",
       "       'Panto_Acid_mg', 'Vit_B6_mg', 'Folate_Tot_µg', 'Food_Folate_µg',\n",
       "       'Folate_DFE_µg', 'Choline_Tot_mg', 'Vit_B12_µg', 'Vit_A_RAE',\n",
       "       'Retinol_µg', 'Alpha_Carot_µg', 'Beta_Carot_µg', 'Beta_Crypt_µg',\n",
       "       'Lycopene_µg', 'LutZea_ug', 'Vit_E_mg', 'Vit_D_µg', 'Vit_D_IU',\n",
       "       'Vit_K_µg', 'FA_Poly_g', 'Cholestrl_mg', 'GmWt_1', 'GmWt_Desc1',\n",
       "       'GmWt_2', 'GmWt_Desc2', 'Refuse_Pct'],\n",
       "      dtype='object')"
      ]
     },
     "execution_count": 75,
     "metadata": {},
     "output_type": "execute_result"
    }
   ],
   "source": [
    "df.columns\n"
   ]
  },
  {
   "cell_type": "markdown",
   "id": "7236fe6e",
   "metadata": {},
   "source": [
    "## Creating a Health score"
   ]
  },
  {
   "cell_type": "code",
   "execution_count": 76,
   "id": "5b33764c",
   "metadata": {},
   "outputs": [],
   "source": [
    "# nutrients tiers defined\n",
    "macro_nutrients = ['Protein_g', 'Carbohydrt_g', 'Lipid_Tot_g', 'Sugar_Tot_g','Fiber_TD_g', 'Sodium_mg', 'Potassium_mg']\n",
    "\n",
    "minerals = [\n",
    "    'Calcium_mg', 'Iron_mg', 'Magnesium_mg',\n",
    "    'Phosphorus_mg', 'Zinc_mg', 'Copper_mg',\n",
    "    'Manganese_mg', 'Selenium_µg'\n",
    "]\n",
    "\n",
    "vitamins = [\n",
    "    'Vit_C_mg', 'Thiamin_mg', 'Riboflavin_mg', 'Niacin_mg', 'Panto_Acid_mg',\n",
    "    'Vit_B6_mg', 'Folate_Tot_µg', 'Food_Folate_µg', 'Folate_DFE_µg',\n",
    "    'Choline_Tot_mg', 'Vit_B12_µg', 'Vit_A_RAE', 'Retinol_µg',\n",
    "    'Alpha_Carot_µg', 'Beta_Carot_µg', 'Beta_Crypt_µg', 'Lycopene_µg',\n",
    "    'LutZea_ug', 'Vit_E_mg', 'Vit_D_µg', 'Vit_D_IU', 'Vit_K_µg'\n",
    "]\n",
    "\n",
    "# non nutritional columns\n",
    "non_nutrition = ['NDB_No', 'Long_Desc', 'Msre_Desc', 'Gm_Wgt', 'GmWt_1', 'GmWt_Desc1', \n",
    "                 'GmWt_2', 'GmWt_Desc2', 'Refuse_Pct']\n",
    "\n",
    "\n",
    "# set weights\n",
    "weights = {\n",
    "    'macro_nutrients':0.5,\n",
    "    'minerals': 0.3,\n",
    "    'vitamins': 0.2\n",
    "}"
   ]
  },
  {
   "cell_type": "code",
   "execution_count": 77,
   "id": "551e3694",
   "metadata": {},
   "outputs": [],
   "source": [
    "# normalize nutrient columns\n",
    "from sklearn.preprocessing import MinMaxScaler\n",
    "\n",
    "scaler = MinMaxScaler()\n",
    "nutrients = core_nutrients + minerals + vitamins\n",
    "\n",
    "df_scaled = df.copy()\n",
    "\n",
    "df_scaled[nutrients] = scaler.fit_transform(df_scaled[nutrients])"
   ]
  },
  {
   "cell_type": "code",
   "execution_count": 78,
   "id": "ea603b70",
   "metadata": {},
   "outputs": [],
   "source": [
    "# subscores for each category\n",
    "df_scaled['score_macro'] = df_scaled[core_nutrients].mean(axis=1)\n",
    "df_scaled['score_minerals'] = df_scaled[minerals].mean(axis=1)\n",
    "df_scaled['score_vitamins'] = df_scaled[vitamins].mean(axis=1)\n",
    "\n",
    "df_scaled['Health_Score'] = (\n",
    "    df_scaled['score_macro'] * weights['macro_nutrients'] +\n",
    "    df_scaled['score_minerals'] * weights['minerals'] +\n",
    "    df_scaled['score_vitamins'] * weights['vitamins']\n",
    ")\n",
    "\n",
    "# scale health score to 0-100\n",
    "df_scaled['Health_Score'] = 100 * (\n",
    "    (df_scaled['Health_Score'] - df_scaled['Health_Score'].min()) /\n",
    "    (df_scaled['Health_Score'].max() - df_scaled['Health_Score'].min())\n",
    ")"
   ]
  },
  {
   "cell_type": "markdown",
   "id": "e208cc83",
   "metadata": {},
   "source": [
    "#### Penalty system for excessive sugar, sodium or cholestrol"
   ]
  },
  {
   "cell_type": "code",
   "execution_count": 79,
   "id": "bee32856",
   "metadata": {},
   "outputs": [],
   "source": [
    "# Define penalty system (per 100g serving) ---\n",
    "penalty_thresholds = {\n",
    "    'Sugar_Tot_g': 15,        # >15g sugar → sugary food\n",
    "    'Sodium_mg': 500,         # >500mg sodium → high salt\n",
    "    'Cholestrl_mg': 100,      # >100mg cholesterol → high fat/meat\n",
    "    'FA_Sat_g': 5             # >5g saturated fat → high saturated fat\n",
    "}\n",
    "\n",
    "penalty_weights = {\n",
    "    'Sugar_Tot_g': 0.15,\n",
    "    'Sodium_mg': 0.25,\n",
    "    'Cholestrl_mg': 0.2,\n",
    "    'FA_Sat_g': 0.2\n",
    "}\n",
    "\n",
    "# Apply penalties ---\n",
    "df_penalty = df_scaled.copy()\n",
    "\n",
    "for nutrient, threshold in penalty_thresholds.items():\n",
    "    if nutrient in df_penalty.columns:\n",
    "        excess = (df_penalty[nutrient] > threshold).astype(int)\n",
    "        df_penalty[f\"{nutrient}_penalty\"] = excess * penalty_weights[nutrient] * 100\n",
    "\n",
    "# Sum total penalty\n",
    "penalty_cols = [c for c in df_penalty.columns if c.endswith('_penalty')]\n",
    "df_penalty['Total_Penalty'] = df_penalty[penalty_cols].sum(axis=1)\n",
    "\n",
    "#  Adjust health score (floor at 0, cap at 100) ---\n",
    "df_penalty['New_Health_Score'] = (\n",
    "    df_penalty['Health_Score'] - df_penalty['Total_Penalty']\n",
    ").clip(lower=0, upper=100)\n",
    "\n",
    "# Categorize before and after penalty ---\n",
    "def categorize_health(score):\n",
    "    if score >= 75:\n",
    "        return \"Excellent\"\n",
    "    elif score >= 50:\n",
    "        return \"Good\"\n",
    "    elif score >= 25:\n",
    "        return \"Fair\"\n",
    "    else:\n",
    "        return \"Poor\"\n",
    "\n",
    "df_penalty['Health_Category'] = df_penalty['Health_Score'].apply(categorize_health)\n",
    "df_penalty['New_Category'] = df_penalty['New_Health_Score'].apply(categorize_health)\n",
    "\n"
   ]
  },
  {
   "cell_type": "code",
   "execution_count": 80,
   "id": "a7a0ea27",
   "metadata": {},
   "outputs": [
    {
     "data": {
      "text/html": [
       "<div>\n",
       "<style scoped>\n",
       "    .dataframe tbody tr th:only-of-type {\n",
       "        vertical-align: middle;\n",
       "    }\n",
       "\n",
       "    .dataframe tbody tr th {\n",
       "        vertical-align: top;\n",
       "    }\n",
       "\n",
       "    .dataframe thead th {\n",
       "        text-align: right;\n",
       "    }\n",
       "</style>\n",
       "<table border=\"1\" class=\"dataframe\">\n",
       "  <thead>\n",
       "    <tr style=\"text-align: right;\">\n",
       "      <th></th>\n",
       "      <th>Long_Desc</th>\n",
       "      <th>Health_Score</th>\n",
       "      <th>New_Health_Score</th>\n",
       "      <th>Health_Category</th>\n",
       "      <th>New_Category</th>\n",
       "    </tr>\n",
       "  </thead>\n",
       "  <tbody>\n",
       "    <tr>\n",
       "      <th>0</th>\n",
       "      <td>unknown</td>\n",
       "      <td>19.704467</td>\n",
       "      <td>0.000000</td>\n",
       "      <td>Poor</td>\n",
       "      <td>Poor</td>\n",
       "    </tr>\n",
       "    <tr>\n",
       "      <th>1</th>\n",
       "      <td>unknown</td>\n",
       "      <td>19.233351</td>\n",
       "      <td>0.000000</td>\n",
       "      <td>Poor</td>\n",
       "      <td>Poor</td>\n",
       "    </tr>\n",
       "    <tr>\n",
       "      <th>2</th>\n",
       "      <td>unknown</td>\n",
       "      <td>14.683385</td>\n",
       "      <td>0.000000</td>\n",
       "      <td>Poor</td>\n",
       "      <td>Poor</td>\n",
       "    </tr>\n",
       "    <tr>\n",
       "      <th>3</th>\n",
       "      <td>unknown</td>\n",
       "      <td>34.944399</td>\n",
       "      <td>34.944399</td>\n",
       "      <td>Fair</td>\n",
       "      <td>Fair</td>\n",
       "    </tr>\n",
       "    <tr>\n",
       "      <th>4</th>\n",
       "      <td>unknown</td>\n",
       "      <td>32.356278</td>\n",
       "      <td>32.356278</td>\n",
       "      <td>Fair</td>\n",
       "      <td>Fair</td>\n",
       "    </tr>\n",
       "    <tr>\n",
       "      <th>5</th>\n",
       "      <td>unknown</td>\n",
       "      <td>25.732186</td>\n",
       "      <td>25.732186</td>\n",
       "      <td>Fair</td>\n",
       "      <td>Fair</td>\n",
       "    </tr>\n",
       "    <tr>\n",
       "      <th>6</th>\n",
       "      <td>unknown</td>\n",
       "      <td>29.636217</td>\n",
       "      <td>29.636217</td>\n",
       "      <td>Fair</td>\n",
       "      <td>Fair</td>\n",
       "    </tr>\n",
       "    <tr>\n",
       "      <th>7</th>\n",
       "      <td>unknown</td>\n",
       "      <td>34.307743</td>\n",
       "      <td>34.307743</td>\n",
       "      <td>Fair</td>\n",
       "      <td>Fair</td>\n",
       "    </tr>\n",
       "    <tr>\n",
       "      <th>8</th>\n",
       "      <td>unknown</td>\n",
       "      <td>35.372116</td>\n",
       "      <td>35.372116</td>\n",
       "      <td>Fair</td>\n",
       "      <td>Fair</td>\n",
       "    </tr>\n",
       "    <tr>\n",
       "      <th>9</th>\n",
       "      <td>unknown</td>\n",
       "      <td>33.378986</td>\n",
       "      <td>13.378986</td>\n",
       "      <td>Fair</td>\n",
       "      <td>Poor</td>\n",
       "    </tr>\n",
       "  </tbody>\n",
       "</table>\n",
       "</div>"
      ],
      "text/plain": [
       "  Long_Desc  Health_Score  New_Health_Score Health_Category New_Category\n",
       "0   unknown     19.704467          0.000000            Poor         Poor\n",
       "1   unknown     19.233351          0.000000            Poor         Poor\n",
       "2   unknown     14.683385          0.000000            Poor         Poor\n",
       "3   unknown     34.944399         34.944399            Fair         Fair\n",
       "4   unknown     32.356278         32.356278            Fair         Fair\n",
       "5   unknown     25.732186         25.732186            Fair         Fair\n",
       "6   unknown     29.636217         29.636217            Fair         Fair\n",
       "7   unknown     34.307743         34.307743            Fair         Fair\n",
       "8   unknown     35.372116         35.372116            Fair         Fair\n",
       "9   unknown     33.378986         13.378986            Fair         Poor"
      ]
     },
     "execution_count": 80,
     "metadata": {},
     "output_type": "execute_result"
    }
   ],
   "source": [
    "# Display final preview ---\n",
    "df_penalty[['Long_Desc', 'Health_Score', 'New_Health_Score','Health_Category',\n",
    "            'New_Category']].head(10)"
   ]
  },
  {
   "cell_type": "code",
   "execution_count": 81,
   "id": "214faf09",
   "metadata": {},
   "outputs": [
    {
     "data": {
      "text/plain": [
       "<Axes: >"
      ]
     },
     "execution_count": 81,
     "metadata": {},
     "output_type": "execute_result"
    },
    {
     "data": {
      "image/png": "[encoded data removed]",
      "text/plain": [
       "<Figure size 640x480 with 1 Axes>"
      ]
     },
     "metadata": {},
     "output_type": "display_data"
    }
   ],
   "source": [
    "df_final = df_penalty.copy()\n",
    "\n",
    "df_final['New_Health_Score'].hist(bins=30)"
   ]
  },
  {
   "cell_type": "markdown",
   "id": "be6a0a26",
   "metadata": {},
   "source": [
    "## Clustering"
   ]
  },
  {
   "cell_type": "code",
   "execution_count": null,
   "id": "d3c1d4d2",
   "metadata": {},
   "outputs": [],
   "source": []
  }
 ],
 "metadata": {
  "kernelspec": {
   "display_name": "new-env",
   "language": "python",
   "name": "python3"
  },
  "language_info": {
   "codemirror_mode": {
    "name": "ipython",
    "version": 3
   },
   "file_extension": ".py",
   "mimetype": "text/x-python",
   "name": "python",
   "nbconvert_exporter": "python",
   "pygments_lexer": "ipython3",
   "version": "3.12.11"
  }
 },
 "nbformat": 4,
 "nbformat_minor": 5
}
